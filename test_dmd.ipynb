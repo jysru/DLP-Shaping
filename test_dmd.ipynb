{
 "cells": [
  {
   "cell_type": "code",
   "execution_count": 1,
   "metadata": {},
   "outputs": [],
   "source": [
    "%load_ext autoreload\n",
    "%autoreload 2"
   ]
  },
  {
   "cell_type": "code",
   "execution_count": 19,
   "metadata": {},
   "outputs": [],
   "source": [
    "import numpy as np\n",
    "from ALP4 import *\n",
    "import time\n",
    "\n",
    "import matplotlib.pyplot as plt"
   ]
  },
  {
   "cell_type": "code",
   "execution_count": 14,
   "metadata": {},
   "outputs": [
    {
     "name": "stdout",
     "output_type": "stream",
     "text": [
      "Loading library: C:\\Program Files\\ALP-4.3\\ALP-4.3 API/x64/alp4395.dll\n",
      "DMD found, resolution = 1024 x 768.\n"
     ]
    }
   ],
   "source": [
    "# Load the Vialux .dll\n",
    "DMD = ALP4(version = '4.3', libDir=r\"C:\\Program Files\\ALP-4.3\\ALP-4.3 API\")\n",
    "# Initialize the device\n",
    "DMD.Initialize()"
   ]
  },
  {
   "cell_type": "code",
   "execution_count": 10,
   "metadata": {},
   "outputs": [
    {
     "ename": "KeyboardInterrupt",
     "evalue": "",
     "output_type": "error",
     "traceback": [
      "\u001b[1;31m---------------------------------------------------------------------------\u001b[0m",
      "\u001b[1;31mKeyboardInterrupt\u001b[0m                         Traceback (most recent call last)",
      "Cell \u001b[1;32mIn[10], line 17\u001b[0m\n\u001b[0;32m     14\u001b[0m \u001b[38;5;66;03m# Run the sequence in an infinite loop\u001b[39;00m\n\u001b[0;32m     15\u001b[0m DMD\u001b[38;5;241m.\u001b[39mRun()\n\u001b[1;32m---> 17\u001b[0m \u001b[43mtime\u001b[49m\u001b[38;5;241;43m.\u001b[39;49m\u001b[43msleep\u001b[49m\u001b[43m(\u001b[49m\u001b[38;5;241;43m10\u001b[39;49m\u001b[43m)\u001b[49m\n",
      "\u001b[1;31mKeyboardInterrupt\u001b[0m: "
     ]
    }
   ],
   "source": [
    "# Binary amplitude image (0 or 1)\n",
    "bitDepth = 1    \n",
    "imgBlack = np.zeros([DMD.nSizeY,DMD.nSizeX])\n",
    "imgWhite = np.ones([DMD.nSizeY,DMD.nSizeX])*(2**8-1)\n",
    "imgSeq  = np.concatenate([imgBlack.ravel(),imgWhite.ravel()])\n",
    "\n",
    "# Allocate the onboard memory for the image sequence\n",
    "DMD.SeqAlloc(nbImg = 2, bitDepth = bitDepth)\n",
    "# Send the image sequence as a 1D list/array/numpy array\n",
    "DMD.SeqPut(imgData = imgSeq)\n",
    "# Set image rate to 50 Hz\n",
    "DMD.SetTiming(pictureTime = 20000)\n",
    "\n",
    "# Run the sequence in an infinite loop\n",
    "DMD.Run()\n",
    "\n",
    "time.sleep(10)\n",
    "\n"
   ]
  },
  {
   "cell_type": "code",
   "execution_count": 20,
   "metadata": {},
   "outputs": [
    {
     "data": {
      "image/png": "[encoded data removed]",
      "text/plain": [
       "<Figure size 640x480 with 1 Axes>"
      ]
     },
     "metadata": {},
     "output_type": "display_data"
    }
   ],
   "source": [
    "img = np.zeros([DMD.nSizeY,DMD.nSizeX])\n",
    "img[:DMD.nSizeY//2, :DMD.nSizeX//2] = 1\n",
    "img = img * (2**8-1)\n",
    "\n",
    "plt.imshow(img, cmap='gray')\n",
    "\n",
    "# Allocate the onboard memory for the image sequence\n",
    "DMD.SeqAlloc(nbImg = 1, bitDepth = bitDepth)\n",
    "\n",
    "# Send the image sequence as a 1D list/array/numpy array\n",
    "DMD.SeqPut(imgData = img)\n",
    "\n",
    "# Set image rate to 50 Hz\n",
    "DMD.SetTiming(pictureTime = 20000)\n",
    "\n",
    "# Run the sequence in an infinite loop\n",
    "DMD.Run()\n",
    "\n",
    "# time.sleep(1)"
   ]
  },
  {
   "cell_type": "code",
   "execution_count": null,
   "metadata": {},
   "outputs": [],
   "source": [
    "# Binary amplitude image (0 or 1)\n",
    "bitDepth = 1    \n",
    "imgBlack = np.zeros([DMD.nSizeY,DMD.nSizeX])\n",
    "imgWhite = np.ones([DMD.nSizeY,DMD.nSizeX])*(2**8-1)\n",
    "imgSeq  = np.concatenate([imgBlack.ravel(),imgWhite.ravel()])\n",
    "\n",
    "# Allocate the onboard memory for the image sequence\n",
    "DMD.SeqAlloc(nbImg = 2, bitDepth = bitDepth)\n",
    "# Send the image sequence as a 1D list/array/numpy array\n",
    "DMD.SeqPut(imgData = imgSeq)\n",
    "# Set image rate to 50 Hz\n",
    "DMD.SetTiming(pictureTime = 20000)\n",
    "\n",
    "# Run the sequence in an infinite loop\n",
    "DMD.Run()\n",
    "\n",
    "time.sleep(10)\n"
   ]
  },
  {
   "cell_type": "code",
   "execution_count": 21,
   "metadata": {},
   "outputs": [],
   "source": [
    "# Stop the sequence display\n",
    "DMD.Halt()\n"
   ]
  },
  {
   "cell_type": "code",
   "execution_count": 22,
   "metadata": {},
   "outputs": [],
   "source": [
    "# Free the sequence from the onboard memory\n",
    "DMD.FreeSeq()\n",
    "# De-allocate the device\n",
    "DMD.Free()"
   ]
  }
 ],
 "metadata": {
  "kernelspec": {
   "display_name": "ml",
   "language": "python",
   "name": "python3"
  },
  "language_info": {
   "codemirror_mode": {
    "name": "ipython",
    "version": 3
   },
   "file_extension": ".py",
   "mimetype": "text/x-python",
   "name": "python",
   "nbconvert_exporter": "python",
   "pygments_lexer": "ipython3",
   "version": "3.9.13"
  }
 },
 "nbformat": 4,
 "nbformat_minor": 2
}
