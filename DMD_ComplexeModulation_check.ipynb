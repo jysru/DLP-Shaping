{
 "cells": [
  {
   "cell_type": "code",
   "execution_count": 24,
   "metadata": {},
   "outputs": [
    {
     "name": "stdout",
     "output_type": "stream",
     "text": [
      "The autoreload extension is already loaded. To reload it, use:\n",
      "  %reload_ext autoreload\n"
     ]
    }
   ],
   "source": [
    "%load_ext autoreload\n",
    "%autoreload 2\n",
    "\n",
    "import numpy as np\n",
    "import matplotlib.pyplot as plt\n",
    "from matplotlib.patches import Ellipse\n",
    "from piston_1 import DMDPiston\n",
    "from waveoptics.plots.plots import complex_imshow\n",
    "from dmdholo.fields_propagation.fourier_filter import fourier_filter\n",
    "from dmdholo.holograms.dmd_holograms import parallel_lee,  orthogonal_lee, holo_SP, holo_Haskell, holo_SP_optimized\n",
    "from dmdholo.holograms.generate_LUT import generate_lut\n",
    "from dmdholo.plotting.plot_funs import colorize\n",
    "# from thorlabscam.camera import ThorlabsCamera\n"
   ]
  },
  {
   "cell_type": "markdown",
   "metadata": {},
   "source": [
    "## Prepare camera"
   ]
  },
  {
   "cell_type": "code",
   "execution_count": 3,
   "metadata": {},
   "outputs": [],
   "source": [
    "# # cam init\n",
    "# cam = ThorlabsCamera(serial_number='24140', name='CAM_1')\n",
    "# cam.setup(\n",
    "#     exposure_time_us=1500,\n",
    "#     roi_xy_size=(304,304),# (W,H)\n",
    "#     roi_xy_upper_left=(1292,1560),#roi_Origine_X,Y_\n",
    "#     frames_per_trigger_zero_for_unlimited= 1,\n",
    "#     operation_mode=1,trigger_polarity = '1',\n",
    "#     ) \n"
   ]
  },
  {
   "cell_type": "code",
   "execution_count": null,
   "metadata": {},
   "outputs": [],
   "source": [
    "# cam.dispose()"
   ]
  },
  {
   "cell_type": "markdown",
   "metadata": {},
   "source": [
    "# LUT Calculation "
   ]
  },
  {
   "cell_type": "markdown",
   "metadata": {},
   "source": [
    "## Px=4"
   ]
  },
  {
   "cell_type": "code",
   "execution_count": 25,
   "metadata": {},
   "outputs": [],
   "source": [
    "px = 4\n",
    "nuvec = np.array((1/px,1/px**2)) \n",
    "SA_filter = 1.0*np.linalg.norm(nuvec)/6\n",
    "f_val, px_comb, lut = generate_lut('sp', px)"
   ]
  },
  {
   "cell_type": "markdown",
   "metadata": {},
   "source": [
    "# HOLO (Actuators) "
   ]
  },
  {
   "cell_type": "markdown",
   "metadata": {},
   "source": [
    "## Generation "
   ]
  },
  {
   "cell_type": "code",
   "execution_count": 29,
   "metadata": {},
   "outputs": [
    {
     "name": "stdout",
     "output_type": "stream",
     "text": [
      "Progress: Generated holograms = 0\n",
      "Progress: Generated holograms = 100\n",
      "Progress: Generated holograms = 200\n",
      "Progress: Generated holograms = 300\n",
      "Progress: Generated holograms = 400\n",
      "Progress: Generated holograms = 500\n",
      "Progress: Generated holograms = 600\n",
      "Progress: Generated holograms = 700\n",
      "Progress: Generated holograms = 800\n",
      "Progress: Generated holograms = 900\n",
      "Progress: Generated holograms = 1000\n",
      "Progress: Generated holograms = 1100\n",
      "Progress: Generated holograms = 1200\n",
      "Progress: Generated holograms = 1300\n",
      "Progress: Generated holograms = 1400\n",
      "Progress: Generated holograms = 1500\n",
      "Progress: Generated holograms = 1600\n",
      "Progress: Generated holograms = 1700\n",
      "Progress: Generated holograms = 1800\n",
      "Progress: Generated holograms = 1900\n",
      "Progress: Generated holograms = 2000\n",
      "Progress: Generated holograms = 2100\n",
      "Progress: Generated holograms = 2200\n",
      "Progress: Generated holograms = 2300\n",
      "Progress: Generated holograms = 2400\n",
      "Progress: Generated holograms = 2500\n",
      "Progress: Generated holograms = 2600\n",
      "Progress: Generated holograms = 2700\n",
      "Progress: Generated holograms = 2800\n",
      "Progress: Generated holograms = 2900\n",
      "Progress: Generated holograms = 3000\n",
      "Progress: Generated holograms = 3100\n",
      "Progress: Generated holograms = 3200\n",
      "Progress: Generated holograms = 3300\n",
      "Progress: Generated holograms = 3400\n",
      "Progress: Generated holograms = 3500\n",
      "Progress: Generated holograms = 3600\n",
      "Progress: Generated holograms = 3700\n",
      "Progress: Generated holograms = 3800\n",
      "Progress: Generated holograms = 3900\n",
      "Progress: Generated holograms = 4000\n",
      "Progress: Generated holograms = 4100\n",
      "Progress: Generated holograms = 4200\n",
      "Progress: Generated holograms = 4300\n",
      "Progress: Generated holograms = 4400\n",
      "Progress: Generated holograms = 4500\n",
      "Progress: Generated holograms = 4600\n",
      "Progress: Generated holograms = 4700\n",
      "Progress: Generated holograms = 4800\n",
      "Progress: Generated holograms = 4900\n",
      "Progress: Generated holograms = 5000\n",
      "Progress: Generated holograms = 5100\n",
      "Progress: Generated holograms = 5200\n",
      "Progress: Generated holograms = 5300\n",
      "Progress: Generated holograms = 5400\n",
      "Progress: Generated holograms = 5500\n",
      "Progress: Generated holograms = 5600\n",
      "Progress: Generated holograms = 5700\n",
      "Progress: Generated holograms = 5800\n",
      "Progress: Generated holograms = 5900\n",
      "Progress: Generated holograms = 6000\n",
      "Progress: Generated holograms = 6100\n",
      "Progress: Generated holograms = 6200\n",
      "Progress: Generated holograms = 6300\n",
      "Progress: Generated holograms = 6400\n",
      "Progress: Generated holograms = 6500\n",
      "Progress: Generated holograms = 6600\n",
      "Progress: Generated holograms = 6700\n",
      "Progress: Generated holograms = 6800\n",
      "Progress: Generated holograms = 6900\n",
      "Progress: Generated holograms = 7000\n",
      "Progress: Generated holograms = 7100\n",
      "Progress: Generated holograms = 7200\n",
      "Progress: Generated holograms = 7300\n",
      "Progress: Generated holograms = 7400\n",
      "Progress: Generated holograms = 7500\n",
      "Progress: Generated holograms = 7600\n",
      "Progress: Generated holograms = 7700\n",
      "Progress: Generated holograms = 7800\n",
      "Progress: Generated holograms = 7900\n",
      "Progress: Generated holograms = 8000\n",
      "Progress: Generated holograms = 8100\n",
      "Progress: Generated holograms = 8200\n",
      "Progress: Generated holograms = 8300\n",
      "Progress: Generated holograms = 8400\n",
      "Progress: Generated holograms = 8500\n",
      "Progress: Generated holograms = 8600\n",
      "Progress: Generated holograms = 8700\n",
      "Progress: Generated holograms = 8800\n",
      "Progress: Generated holograms = 8900\n",
      "Progress: Generated holograms = 9000\n",
      "Progress: Generated holograms = 9100\n",
      "Progress: Generated holograms = 9200\n",
      "Progress: Generated holograms = 9300\n",
      "Progress: Generated holograms = 9400\n",
      "Progress: Generated holograms = 9500\n",
      "Progress: Generated holograms = 9600\n",
      "Progress: Generated holograms = 9700\n",
      "Progress: Generated holograms = 9800\n",
      "Progress: Generated holograms = 9900\n"
     ]
    }
   ],
   "source": [
    "DMD_nSizeY=768\n",
    "DMD_nSizeX=1024\n",
    "n_actu_1D = 16\n",
    "roi_size=256\n",
    "# Initialisation du DMD avec une région d'intérêt (ROI)\n",
    "dmd = DMDPiston(n_actu_1D, roi_size=roi_size, roi_shifts=(370, 520))  # H,V (400,520)\n",
    "\n",
    "# Génération d'hologrammes\n",
    "nbr_holos = 10000\n",
    "Holos_Actu = []\n",
    "maps=[]\n",
    "generated_fields = set()\n",
    "for i in range(nbr_holos):  # Correction de `np.(nbr_holos)` en `range(nbr_holos)`\n",
    "    # Générer des champs avec des amplitudes et phases aléatoires\n",
    "    dmd.generate_fields(n_actu_1D, rand_amp=True, rand_phi=True,phi_clx=None,phi=None)\n",
    "    target_field = np.copy(dmd.field_matrix)\n",
    "    maps.append(dmd.field)\n",
    "    \n",
    "    # field_hash = hash(dmd.actus.tobytes())\n",
    "    # if field_hash in generated_fields:\n",
    "    #     print(f\"Duplicate found! in {i}\")\n",
    "    # generated_fields.add(field_hash)\n",
    "    \n",
    "    target_field /= np.max(np.abs(target_field))\n",
    "    # Conversion en hologramme\n",
    "    holo_sp = holo_SP(target_field, lut, px_comb).astype(np.uint8)\n",
    "    # holo_sp = holo_SP_optimized(target_field, lut, px_comb).astype(np.uint8)\n",
    "    # holo_sp2 = holo_SP(target_field, lut, px_comb).astype(np.uint8)\n",
    "    \n",
    "    holo_sp=holo_sp*(2**8-1)\n",
    "    # holo_sp2=holo_sp2*(2**8-1)\n",
    "\n",
    "    Holos_Actu.append(holo_sp)\n",
    "    if i % 100 == 0:\n",
    "        print(\"Progress: Generated holograms =\", i)"
   ]
  },
  {
   "cell_type": "markdown",
   "metadata": {},
   "source": [
    "## Saving the holos in a folder "
   ]
  },
  {
   "cell_type": "code",
   "execution_count": 32,
   "metadata": {},
   "outputs": [],
   "source": [
    "np.savez(rf'C:\\Users\\saucourt\\Downloads\\holo_Acuators_size={nbr_holos}_1D_{n_actu_1D}_ROI{roi_size}.npz',\n",
    "         Holos_Actu=np.array(Holos_Actu),  phase_maps_set=generated_fields)\n"
   ]
  }
 ],
 "metadata": {
  "kernelspec": {
   "display_name": "ml",
   "language": "python",
   "name": "python3"
  },
  "language_info": {
   "codemirror_mode": {
    "name": "ipython",
    "version": 3
   },
   "file_extension": ".py",
   "mimetype": "text/x-python",
   "name": "python",
   "nbconvert_exporter": "python",
   "pygments_lexer": "ipython3",
   "version": "3.9.13"
  }
 },
 "nbformat": 4,
 "nbformat_minor": 2
}
